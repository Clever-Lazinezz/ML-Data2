{
  "nbformat": 4,
  "nbformat_minor": 0,
  "metadata": {
    "colab": {
      "name": "Copy of Homework 1.ipynb",
      "provenance": [],
      "collapsed_sections": [
        "elOgKZR009ex",
        "OuX7aazu09X1",
        "NP5TZKqO09Rr",
        "IK0FvUoa1MJG",
        "sOkeycZk1L5-"
      ],
      "include_colab_link": true
    },
    "kernelspec": {
      "name": "python3",
      "display_name": "Python 3"
    },
    "language_info": {
      "name": "python"
    }
  },
  "cells": [
    {
      "cell_type": "markdown",
      "metadata": {
        "id": "view-in-github",
        "colab_type": "text"
      },
      "source": [
        "<a href=\"https://colab.research.google.com/github/Clever-Lazinezz/ML-Data2/blob/main/Copy_of_Homework_1.ipynb\" target=\"_parent\"><img src=\"https://colab.research.google.com/assets/colab-badge.svg\" alt=\"Open In Colab\"/></a>"
      ]
    },
    {
      "cell_type": "markdown",
      "source": [
        "# Answer all the questions!"
      ],
      "metadata": {
        "id": "FkJsXd8D06Rp"
      }
    },
    {
      "cell_type": "markdown",
      "source": [
        "##Write a Python program to get the volume of a sphere with radius 6"
      ],
      "metadata": {
        "id": "elOgKZR009ex"
      }
    },
    {
      "cell_type": "code",
      "source": [
        "import math \n",
        "\n",
        "def getSphereVolume(radius):\n",
        "  \"\"\"\n",
        "  Definition: Calculates the volume of a shpere given a radius\n",
        "  Created by: Jordan Angus\n",
        "  Input: a real number\n",
        "  Output: volume of a sphere\n",
        "  \"\"\"\n",
        "\n",
        "  return math.pi * (4/3) * math.pow(radius, 3)\n",
        "  "
      ],
      "metadata": {
        "id": "YbhKO6Cs09av"
      },
      "execution_count": null,
      "outputs": []
    },
    {
      "cell_type": "code",
      "source": [
        "getSphereVolume(3)"
      ],
      "metadata": {
        "colab": {
          "base_uri": "https://localhost:8080/"
        },
        "id": "j5UdhEJ2KEYe",
        "outputId": "abdd5a38-d78c-4feb-bc4e-042f5a2c6f2d"
      },
      "execution_count": null,
      "outputs": [
        {
          "output_type": "execute_result",
          "data": {
            "text/plain": [
              "113.09733552923254"
            ]
          },
          "metadata": {},
          "execution_count": 3
        }
      ]
    },
    {
      "cell_type": "markdown",
      "source": [
        "##Write a Python program to find whether a given number (accept from the user) is even or odd"
      ],
      "metadata": {
        "id": "OuX7aazu09X1"
      }
    },
    {
      "cell_type": "code",
      "source": [
        "def EvenOrOdd(n):\n",
        "  \"\"\"\n",
        "  Definition: Tells if a number is even or odd\n",
        "  Created by: Jordan Angus\n",
        "  Input: a number\n",
        "  Output: A string saying if the number was odd or even\n",
        "  \"\"\"\n",
        "\n",
        "  print(\"Even\") if n % 2 == 0 else print(\"Odd\")"
      ],
      "metadata": {
        "id": "vcYhNNaU09Uz"
      },
      "execution_count": 4,
      "outputs": []
    },
    {
      "cell_type": "code",
      "source": [
        "EvenOrOdd(int(input(\"Enter a number...\")))"
      ],
      "metadata": {
        "colab": {
          "base_uri": "https://localhost:8080/"
        },
        "id": "z0ftbN5k02Fb",
        "outputId": "6bd6052b-5ef1-4ca9-d0af-d5981bbf49e1"
      },
      "execution_count": 5,
      "outputs": [
        {
          "output_type": "stream",
          "name": "stdout",
          "text": [
            "Enter a number...3496\n",
            "Even\n"
          ]
        }
      ]
    },
    {
      "cell_type": "markdown",
      "source": [
        "##Write a Python program to count the number 4 in a given list"
      ],
      "metadata": {
        "id": "NP5TZKqO09Rr"
      }
    },
    {
      "cell_type": "code",
      "source": [
        "def countOfFour(n):\n",
        "  \"\"\"\n",
        "  Definition: Counts the number of occurences of the number '4' in a list\n",
        "  Created by: Jordan Angus\n",
        "  Input: a list of numbers\n",
        "  Output: the number of '4's in a given list\n",
        "  \"\"\"\n",
        "\n",
        "  count = 0\n",
        "\n",
        "  for num in n:\n",
        "    if num == 4:\n",
        "      count = count + 1\n",
        "\n",
        "  return \"There are \" + str(count) + \" occurences of four in this list\""
      ],
      "metadata": {
        "id": "oWZ3vTfW09Oh"
      },
      "execution_count": null,
      "outputs": []
    },
    {
      "cell_type": "code",
      "source": [
        "countOfFour([2,5,9,4,4,4,7])"
      ],
      "metadata": {
        "colab": {
          "base_uri": "https://localhost:8080/",
          "height": 37
        },
        "id": "r3Hw2oMiqp8v",
        "outputId": "dab32fcb-db30-4599-d4e7-a0d1a86c1b90"
      },
      "execution_count": null,
      "outputs": [
        {
          "output_type": "execute_result",
          "data": {
            "text/plain": [
              "'There are 3 occurences of four in this list'"
            ],
            "application/vnd.google.colaboratory.intrinsic+json": {
              "type": "string"
            }
          },
          "metadata": {},
          "execution_count": 14
        }
      ]
    },
    {
      "cell_type": "markdown",
      "source": [
        "##Write a Python program that will accept the base and height of a triangle and compute the area"
      ],
      "metadata": {
        "id": "IK0FvUoa1MJG"
      }
    },
    {
      "cell_type": "code",
      "source": [
        "def areaOfTriangle(b, h):\n",
        "  \"\"\"\n",
        "  Definition: Finda the area of a tringle\n",
        "  Created by: Jordan Angus\n",
        "  Input: base and height values\n",
        "  Output: the area of a triangle\n",
        "  \"\"\"\n",
        "\n",
        "  return 1/2 * b * h"
      ],
      "metadata": {
        "id": "G02dv4rh1MFs"
      },
      "execution_count": null,
      "outputs": []
    },
    {
      "cell_type": "code",
      "source": [
        "areaOfTriangle(3,2)"
      ],
      "metadata": {
        "id": "PvUcNdT8tOuw",
        "outputId": "9c6198e4-9e18-46d5-d4b3-9679401004af",
        "colab": {
          "base_uri": "https://localhost:8080/"
        }
      },
      "execution_count": null,
      "outputs": [
        {
          "output_type": "execute_result",
          "data": {
            "text/plain": [
              "3.0"
            ]
          },
          "metadata": {},
          "execution_count": 16
        }
      ]
    },
    {
      "cell_type": "markdown",
      "source": [
        "##Write a Python program to convert the distance (in feet) to inches, yards, and miles."
      ],
      "metadata": {
        "id": "sOkeycZk1L5-"
      }
    },
    {
      "cell_type": "code",
      "source": [
        "def distConverts(n):\n",
        "  \"\"\"\n",
        "  Definition: Converts feet into inches, yards, and miles\n",
        "  Created by: Jordan Angus\n",
        "  Input: distance in feet value\n",
        "  Output: given distance represented as inches, yards, and miles\n",
        "  \"\"\"\n",
        "\n",
        "  return str(n) + \" feet is \" + str(n*12) + \" inches, \" + str(n/3) + \" yards, and \" + str(n/3/1760) + \" miles.\""
      ],
      "metadata": {
        "id": "YtW-ZxqB1L2c"
      },
      "execution_count": 13,
      "outputs": []
    },
    {
      "cell_type": "code",
      "source": [
        "distConverts(5280)"
      ],
      "metadata": {
        "colab": {
          "base_uri": "https://localhost:8080/",
          "height": 37
        },
        "id": "aw7DDtZ5cxnm",
        "outputId": "52e66380-a0b2-44eb-ffd4-7dcde331bd4a"
      },
      "execution_count": 14,
      "outputs": [
        {
          "output_type": "execute_result",
          "data": {
            "text/plain": [
              "'5280 feet is 63360 inches, 1760.0 yards, and 1.0 miles.'"
            ],
            "application/vnd.google.colaboratory.intrinsic+json": {
              "type": "string"
            }
          },
          "metadata": {},
          "execution_count": 14
        }
      ]
    },
    {
      "cell_type": "code",
      "source": [
        ""
      ],
      "metadata": {
        "id": "3gcmcOUPc_nK"
      },
      "execution_count": null,
      "outputs": []
    }
  ]
}