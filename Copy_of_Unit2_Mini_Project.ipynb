{
  "nbformat": 4,
  "nbformat_minor": 0,
  "metadata": {
    "colab": {
      "name": "Copy of Unit2_Mini_Project.ipynb",
      "provenance": [],
      "collapsed_sections": [],
      "include_colab_link": true
    },
    "kernelspec": {
      "name": "python3",
      "display_name": "Python 3"
    }
  },
  "cells": [
    {
      "cell_type": "markdown",
      "metadata": {
        "id": "view-in-github",
        "colab_type": "text"
      },
      "source": [
        "<a href=\"https://colab.research.google.com/github/Clever-Lazinezz/ML-Data2/blob/main/Copy_of_Unit2_Mini_Project.ipynb\" target=\"_parent\"><img src=\"https://colab.research.google.com/assets/colab-badge.svg\" alt=\"Open In Colab\"/></a>"
      ]
    },
    {
      "cell_type": "markdown",
      "metadata": {
        "id": "Vgs8Kp4TidFQ"
      },
      "source": [
        "# Intrdouction to Python - Mini Project"
      ]
    },
    {
      "cell_type": "markdown",
      "metadata": {
        "id": "_Hq7Ny79iwgD"
      },
      "source": [
        "#Python Project – Odd or Even\n",
        "\n",
        "Ask the user for a number. Depending on whether the number is even or odd, print out an appropriate message to the user. Hint: how does an even / odd number react differently when divided by 2?\n"
      ]
    },
    {
      "cell_type": "code",
      "metadata": {
        "id": "lotvpVpvlKsR"
      },
      "source": [
        "def EvenOrOdd(n):\n",
        "  \"\"\"\n",
        "  Description: Determines if a given number is even or odd, and notifies user\n",
        "  Created by: Jordan Angus\n",
        "  Input: A number from the user\n",
        "  Output: Statement saying if the given number is even or odd\n",
        "  \"\"\"\n",
        "\n",
        "  if n % 4 == 0:\n",
        "    print(\"Your number is a multiple of four, and therefore even...\")\n",
        "  else:\n",
        "    print(\"Even\") if n % 2 == 0 else print(\"Odd\")"
      ],
      "execution_count": 35,
      "outputs": []
    },
    {
      "cell_type": "code",
      "metadata": {
        "id": "oNXY-CfrlLbE",
        "colab": {
          "base_uri": "https://localhost:8080/"
        },
        "outputId": "563f8f30-b601-4fde-a80e-f569230de243"
      },
      "source": [
        "EvenOrOdd(int(input(\"Enter a number...\")))"
      ],
      "execution_count": 10,
      "outputs": [
        {
          "output_type": "stream",
          "name": "stdout",
          "text": [
            "Enter a number...8\n",
            "Even\n"
          ]
        }
      ]
    },
    {
      "cell_type": "markdown",
      "metadata": {
        "id": "io_27RSlizno"
      },
      "source": [
        "# Bonus:\n",
        "\n",
        "1.\tIf the number is a multiple of 4, print out a different message.\n",
        "\n",
        "2.\tAsk the user for two numbers: one number to check (call it num) and one number to divide by (check). If check divides evenly into num, tell that to the user. If not, print a different appropriate message.\n"
      ]
    },
    {
      "cell_type": "code",
      "metadata": {
        "id": "Dh1o5cAylSHB",
        "colab": {
          "base_uri": "https://localhost:8080/"
        },
        "outputId": "1e3170f9-0537-415c-a70c-cf178f80aa2d"
      },
      "source": [
        "EvenOrOdd(int(input(\"Enter a number...\")))"
      ],
      "execution_count": 37,
      "outputs": [
        {
          "output_type": "stream",
          "name": "stdout",
          "text": [
            "Enter a number...128\n",
            "Your number is a multiple of four, and therefore even...\n"
          ]
        }
      ]
    },
    {
      "cell_type": "code",
      "metadata": {
        "id": "5mkKtxzunuqc"
      },
      "source": [
        "def Check(num, check):\n",
        "  \"\"\"\n",
        "  Description: Determines if a given number is even or odd, and notifies user\n",
        "  Created by: Jordan Angus\n",
        "  Input: A number from the user\n",
        "  Output: Statement saying if the given number is even or odd\n",
        "  \"\"\"\n",
        "\n",
        "  print(\"Check divides evenly into num\") if int(num) % int(check) == 0 else print(\"It appears we are at an impass, said the fiddle...\")"
      ],
      "execution_count": 53,
      "outputs": []
    },
    {
      "cell_type": "code",
      "metadata": {
        "id": "rmfPnI5onutd",
        "colab": {
          "base_uri": "https://localhost:8080/"
        },
        "outputId": "2e21ccb6-7bd5-4b39-daa6-b1462f0aaf37"
      },
      "source": [
        "num = input(\"Please enter a number, and a number you want to check if it divides evenly into the first number...\\n The first:\")\n",
        "check = input(\"The second:\")\n",
        "\n",
        "Check(num,check)"
      ],
      "execution_count": 54,
      "outputs": [
        {
          "output_type": "stream",
          "name": "stdout",
          "text": [
            "Please enter a number, and a number you want to check if it divides evenly into the first number...\n",
            " The first:8\n",
            "The second:2\n",
            "Check divides evenly into num\n"
          ]
        }
      ]
    },
    {
      "cell_type": "code",
      "metadata": {
        "id": "6000qDkVnuxM"
      },
      "source": [
        ""
      ],
      "execution_count": null,
      "outputs": []
    },
    {
      "cell_type": "code",
      "metadata": {
        "id": "X2X4dTbfnu0M"
      },
      "source": [
        ""
      ],
      "execution_count": null,
      "outputs": []
    }
  ]
}