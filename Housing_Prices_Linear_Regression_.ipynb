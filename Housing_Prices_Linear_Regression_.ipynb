{
  "nbformat": 4,
  "nbformat_minor": 0,
  "metadata": {
    "colab": {
      "name": "Housing Prices Linear Regression .ipynb",
      "provenance": [],
      "collapsed_sections": [
        "IvdTTgXb3oww",
        "H0VCvKl5pBob",
        "8T2SwPcgpT8K",
        "KIJ4841UpcE7",
        "tKTp81Mgp0Vx"
      ],
      "authorship_tag": "ABX9TyM3bP8aL0rQZpC+UfaaXI1l",
      "include_colab_link": true
    },
    "kernelspec": {
      "name": "python3",
      "display_name": "Python 3"
    },
    "language_info": {
      "name": "python"
    }
  },
  "cells": [
    {
      "cell_type": "markdown",
      "metadata": {
        "id": "view-in-github",
        "colab_type": "text"
      },
      "source": [
        "<a href=\"https://colab.research.google.com/github/Clever-Lazinezz/ML-Data2/blob/main/Housing_Prices_Linear_Regression_.ipynb\" target=\"_parent\"><img src=\"https://colab.research.google.com/assets/colab-badge.svg\" alt=\"Open In Colab\"/></a>"
      ]
    },
    {
      "cell_type": "markdown",
      "source": [
        "## Task 1: Identify the Problem"
      ],
      "metadata": {
        "id": "Yff9o1CSo0Y1"
      }
    },
    {
      "cell_type": "markdown",
      "source": [
        "Housing price data from King County, WA"
      ],
      "metadata": {
        "id": "hZd_4JZ6o6gm"
      }
    },
    {
      "cell_type": "markdown",
      "source": [
        "## Task 2: Load the Libraries"
      ],
      "metadata": {
        "id": "xgXooCzlo58H"
      }
    },
    {
      "cell_type": "code",
      "source": [
        "import pandas as pd\n",
        "import numpy as np\n",
        "import matplotlib.pyplot as plt\n",
        "from sklearn.linear_model import LinearRegression\n",
        "from sklearn.model_selection import train_test_split"
      ],
      "metadata": {
        "id": "KUTqYfMdo-Tg"
      },
      "execution_count": 1,
      "outputs": []
    },
    {
      "cell_type": "markdown",
      "source": [
        "## Task 3: Load the Data"
      ],
      "metadata": {
        "id": "etdYl2L-o-x4"
      }
    },
    {
      "cell_type": "code",
      "source": [
        "!wget https://raw.githubusercontent.com/msiddalingaiah/MachineLearning/master/Regression/data/kc_house_data.csv -O kc_house_data.csv"
      ],
      "metadata": {
        "id": "K26WtZG8pB-L",
        "colab": {
          "base_uri": "https://localhost:8080/"
        },
        "outputId": "96cc5894-719e-4825-bdeb-59c57e11e180"
      },
      "execution_count": 2,
      "outputs": [
        {
          "output_type": "stream",
          "name": "stdout",
          "text": [
            "--2022-07-20 21:13:30--  https://raw.githubusercontent.com/msiddalingaiah/MachineLearning/master/Regression/data/kc_house_data.csv\n",
            "Resolving raw.githubusercontent.com (raw.githubusercontent.com)... 185.199.108.133, 185.199.109.133, 185.199.110.133, ...\n",
            "Connecting to raw.githubusercontent.com (raw.githubusercontent.com)|185.199.108.133|:443... connected.\n",
            "HTTP request sent, awaiting response... 200 OK\n",
            "Length: 2515206 (2.4M) [text/plain]\n",
            "Saving to: ‘kc_house_data.csv’\n",
            "\n",
            "\rkc_house_data.csv     0%[                    ]       0  --.-KB/s               \rkc_house_data.csv   100%[===================>]   2.40M  --.-KB/s    in 0.05s   \n",
            "\n",
            "2022-07-20 21:13:30 (49.1 MB/s) - ‘kc_house_data.csv’ saved [2515206/2515206]\n",
            "\n"
          ]
        }
      ]
    },
    {
      "cell_type": "markdown",
      "source": [
        "## Task 4: EDA(Exploratory Data Analysis)"
      ],
      "metadata": {
        "id": "6CrGRd2tpB01"
      }
    },
    {
      "cell_type": "code",
      "source": [
        "data = pd.read_csv('https://raw.githubusercontent.com/msiddalingaiah/MachineLearning/master/Regression/data/kc_house_data.csv')"
      ],
      "metadata": {
        "id": "mmz4M6efpNCq"
      },
      "execution_count": 12,
      "outputs": []
    },
    {
      "cell_type": "code",
      "source": [
        "data.head()"
      ],
      "metadata": {
        "id": "nUKU_f781l4Q"
      },
      "execution_count": null,
      "outputs": []
    },
    {
      "cell_type": "code",
      "source": [
        "data.columns"
      ],
      "metadata": {
        "id": "4YU-UQ0c1mv9"
      },
      "execution_count": null,
      "outputs": []
    },
    {
      "cell_type": "code",
      "source": [
        "space = data['sqft_living']\n",
        "price = data['price']"
      ],
      "metadata": {
        "id": "rsnjMjXh1m2r"
      },
      "execution_count": 15,
      "outputs": []
    },
    {
      "cell_type": "code",
      "source": [
        "#Change x into a 2D array\n",
        "x = np.array(space).reshape(-1,1)\n",
        "y = np.array(price)"
      ],
      "metadata": {
        "id": "gM94cd5u1m9-"
      },
      "execution_count": 16,
      "outputs": []
    },
    {
      "cell_type": "code",
      "source": [
        "data.info"
      ],
      "metadata": {
        "id": "2MVFLHyq4YCp"
      },
      "execution_count": null,
      "outputs": []
    },
    {
      "cell_type": "code",
      "source": [
        "x"
      ],
      "metadata": {
        "id": "KEsonCAm1nET",
        "colab": {
          "base_uri": "https://localhost:8080/"
        },
        "outputId": "4cab1fb1-a355-4e2f-c80a-9571ae9fe366"
      },
      "execution_count": 18,
      "outputs": [
        {
          "output_type": "execute_result",
          "data": {
            "text/plain": [
              "array([[1180],\n",
              "       [2570],\n",
              "       [ 770],\n",
              "       ...,\n",
              "       [1020],\n",
              "       [1600],\n",
              "       [1020]])"
            ]
          },
          "metadata": {},
          "execution_count": 18
        }
      ]
    },
    {
      "cell_type": "code",
      "source": [
        "y"
      ],
      "metadata": {
        "id": "-yeKPmHZ1nKV",
        "colab": {
          "base_uri": "https://localhost:8080/"
        },
        "outputId": "c3027045-d78b-432f-a88d-b30e35de699f"
      },
      "execution_count": 19,
      "outputs": [
        {
          "output_type": "execute_result",
          "data": {
            "text/plain": [
              "array([221900., 538000., 180000., ..., 402101., 400000., 325000.])"
            ]
          },
          "metadata": {},
          "execution_count": 19
        }
      ]
    },
    {
      "cell_type": "markdown",
      "source": [
        "### Create the Data Split"
      ],
      "metadata": {
        "id": "IvdTTgXb3oww"
      }
    },
    {
      "cell_type": "code",
      "source": [
        "#Split the data into train sets and test sets\n",
        "x_train,x_test,y_train,y_test = train_test_split(x,y,test_size=0.3,random_state=0)"
      ],
      "metadata": {
        "id": "1EygJkch3vD1"
      },
      "execution_count": 20,
      "outputs": []
    },
    {
      "cell_type": "markdown",
      "source": [
        "## Task 5: Data Visualization"
      ],
      "metadata": {
        "id": "H0VCvKl5pBob"
      }
    },
    {
      "cell_type": "code",
      "source": [
        "# Visualizing training set\n",
        "plt.scatter(x_train,y_train,color='red',label='Living Area')\n",
        "plt.title(\"Housing Prices in King Count, WA\")\n",
        "plt.xlabel(\"Area(sq-ft)\")\n",
        "plt.ylabel(\"Price(USD\")\n",
        "plt.legend()\n",
        "plt.show()"
      ],
      "metadata": {
        "colab": {
          "base_uri": "https://localhost:8080/",
          "height": 295
        },
        "id": "kRQIvX8MpURk",
        "outputId": "44f4d130-9666-4a7b-dbba-bafe329d4371"
      },
      "execution_count": 21,
      "outputs": [
        {
          "output_type": "display_data",
          "data": {
            "text/plain": [
              "<Figure size 432x288 with 1 Axes>"
            ],
            "image/png": "[encoded data removed]"
          },
          "metadata": {
            "needs_background": "light"
          }
        }
      ]
    },
    {
      "cell_type": "markdown",
      "source": [
        "## Task 6: Compute the Cost Function"
      ],
      "metadata": {
        "id": "8T2SwPcgpT8K"
      }
    },
    {
      "cell_type": "code",
      "source": [
        "# At this time, no cost function needed"
      ],
      "metadata": {
        "id": "muYForiApcP-"
      },
      "execution_count": null,
      "outputs": []
    },
    {
      "cell_type": "markdown",
      "source": [
        "## Task 7: Compute the Gradient Descent"
      ],
      "metadata": {
        "id": "KIJ4841UpcE7"
      }
    },
    {
      "cell_type": "code",
      "source": [
        "# At this time, no gradient descent needed"
      ],
      "metadata": {
        "id": "D2krHcSkpbuO"
      },
      "execution_count": null,
      "outputs": []
    },
    {
      "cell_type": "markdown",
      "source": [
        "## Task 8: Visualizing the Cost Function"
      ],
      "metadata": {
        "id": "tKTp81Mgp0Vx"
      }
    },
    {
      "cell_type": "code",
      "source": [
        "# Not needed"
      ],
      "metadata": {
        "id": "UOEU9oOjp3dG"
      },
      "execution_count": null,
      "outputs": []
    },
    {
      "cell_type": "markdown",
      "source": [
        "## Task 9: Conduct the Linear Regression on the Data"
      ],
      "metadata": {
        "id": "5a1n5akZp3wQ"
      }
    },
    {
      "cell_type": "markdown",
      "source": [
        "### Create the Linear Regression model"
      ],
      "metadata": {
        "id": "ylbmsr2u5RPu"
      }
    },
    {
      "cell_type": "code",
      "source": [
        "regressor = LinearRegression()"
      ],
      "metadata": {
        "id": "p6VEvPCn5zvF"
      },
      "execution_count": 22,
      "outputs": []
    },
    {
      "cell_type": "markdown",
      "source": [
        "### Train the Linear Regression Model"
      ],
      "metadata": {
        "id": "fyhPk37Gp39_"
      }
    },
    {
      "cell_type": "code",
      "source": [
        "regressor.fit(x_train,y_train)"
      ],
      "metadata": {
        "colab": {
          "base_uri": "https://localhost:8080/"
        },
        "id": "nv8EVNIn5mXf",
        "outputId": "cf39550e-c40a-4f73-9ebb-b52cf672a25e"
      },
      "execution_count": 23,
      "outputs": [
        {
          "output_type": "execute_result",
          "data": {
            "text/plain": [
              "LinearRegression()"
            ]
          },
          "metadata": {},
          "execution_count": 23
        }
      ]
    },
    {
      "cell_type": "markdown",
      "source": [
        "## Task 10: Making Predictions"
      ],
      "metadata": {
        "id": "I9rY-oizp4Dk"
      }
    },
    {
      "cell_type": "code",
      "source": [
        "#Visualize training set\n",
        "plt.scatter(x_train,y_train,color='red',label='Living Area')\n",
        "plt.title(\"Housing Prices in King Count, WA\")\n",
        "plt.plot(x_train,regressor.predict(x_train),color='blue',label='Price')\n",
        "plt.xlabel(\"Area(sq-ft)\")\n",
        "plt.ylabel(\"Price(USD\")\n",
        "plt.legend()\n",
        "plt.show()"
      ],
      "metadata": {
        "colab": {
          "base_uri": "https://localhost:8080/",
          "height": 295
        },
        "id": "bl5n8cItp4JB",
        "outputId": "c6eb11e6-b7df-4ef1-dbdc-c5e7f529cf02"
      },
      "execution_count": 24,
      "outputs": [
        {
          "output_type": "display_data",
          "data": {
            "text/plain": [
              "<Figure size 432x288 with 1 Axes>"
            ],
            "image/png": "[encoded data removed]"
          },
          "metadata": {
            "needs_background": "light"
          }
        }
      ]
    },
    {
      "cell_type": "code",
      "source": [
        "#Visualize training set\n",
        "plt.scatter(x_train,y_train,color='red',label='Living Area')\n",
        "plt.title(\"Housing Prices in King Count, WA\")\n",
        "plt.plot(x_train,regressor.predict(x_train),color='blue',label='Price')\n",
        "plt.xlabel(\"Area(sq-ft)\")\n",
        "plt.ylabel(\"Price(USD\")\n",
        "plt.legend()\n",
        "plt.show()"
      ],
      "metadata": {
        "id": "FMg3N0-pp4QF"
      },
      "execution_count": null,
      "outputs": []
    },
    {
      "cell_type": "code",
      "source": [
        "area = 3400"
      ],
      "metadata": {
        "id": "PGScjzjDp4W8"
      },
      "execution_count": null,
      "outputs": []
    },
    {
      "cell_type": "code",
      "source": [
        "price = regressor.predict([[area]])"
      ],
      "metadata": {
        "id": "u4z-JIPj7D_g"
      },
      "execution_count": null,
      "outputs": []
    },
    {
      "cell_type": "code",
      "source": [
        "print(\"House of %d sq-ft cost about $%d\" % (area, price))"
      ],
      "metadata": {
        "id": "YI7kfCVq7EY3"
      },
      "execution_count": null,
      "outputs": []
    },
    {
      "cell_type": "markdown",
      "source": [
        "### Analytics using sqrt_basement"
      ],
      "metadata": {
        "id": "N53KW_To7EgY"
      }
    },
    {
      "cell_type": "code",
      "source": [
        "space2 = data['sqft_basement']\n",
        "price = data['price']"
      ],
      "metadata": {
        "id": "69n7fXwWfaQn"
      },
      "execution_count": 41,
      "outputs": []
    },
    {
      "cell_type": "code",
      "source": [
        "x = np.array(space2).reshape(-1,1)\n",
        "y = np.array(price)"
      ],
      "metadata": {
        "id": "G40gbyCueuGM"
      },
      "execution_count": 42,
      "outputs": []
    },
    {
      "cell_type": "code",
      "source": [
        "#Split the data into train sets and test sets\n",
        "x_train,x_test,y_train,y_test = train_test_split(x,y,test_size=0.3,random_state=0)"
      ],
      "metadata": {
        "id": "62oQSIQ_fEZz"
      },
      "execution_count": 43,
      "outputs": []
    },
    {
      "cell_type": "code",
      "source": [
        "model1 = LinearRegression()"
      ],
      "metadata": {
        "id": "SwAW7d02fEHN"
      },
      "execution_count": 44,
      "outputs": []
    },
    {
      "cell_type": "code",
      "source": [
        "x"
      ],
      "metadata": {
        "id": "canLTfQhgsl9"
      },
      "execution_count": null,
      "outputs": []
    },
    {
      "cell_type": "code",
      "source": [
        "y"
      ],
      "metadata": {
        "id": "zSkNay1_guHF"
      },
      "execution_count": null,
      "outputs": []
    },
    {
      "cell_type": "code",
      "source": [
        "model1.fit(x_train,y_train)"
      ],
      "metadata": {
        "id": "TFsoa14DeuxJ"
      },
      "execution_count": null,
      "outputs": []
    },
    {
      "cell_type": "code",
      "source": [
        "#Visualize training set\n",
        "plt.scatter(x_train,y_train,color='red',label='Basement Space')\n",
        "plt.title(\"Housing Prices in King Count, WA\")\n",
        "plt.plot(x_train,model1.predict(x_train),color='blue',label='Price')\n",
        "plt.xlabel(\"Area(sq-ft)\")\n",
        "plt.ylabel(\"Price(USD\")\n",
        "plt.legend()\n",
        "plt.show()"
      ],
      "metadata": {
        "colab": {
          "base_uri": "https://localhost:8080/",
          "height": 295
        },
        "id": "tPnHuOBShgKd",
        "outputId": "b35c1063-d79a-47cd-cbc4-5d877c898499"
      },
      "execution_count": 47,
      "outputs": [
        {
          "output_type": "display_data",
          "data": {
            "text/plain": [
              "<Figure size 432x288 with 1 Axes>"
            ],
            "image/png": "[encoded data removed]"
          },
          "metadata": {
            "needs_background": "light"
          }
        }
      ]
    },
    {
      "cell_type": "code",
      "source": [
        ""
      ],
      "metadata": {
        "id": "EfqN7e7xh8Mj"
      },
      "execution_count": null,
      "outputs": []
    },
    {
      "cell_type": "markdown",
      "source": [
        "### Analytics using bedroom"
      ],
      "metadata": {
        "id": "AQBBsyZh7Em7"
      }
    },
    {
      "cell_type": "code",
      "source": [
        "space3 = data['bedrooms']\n",
        "price = data['price']"
      ],
      "metadata": {
        "id": "eChrzupqevsX"
      },
      "execution_count": 48,
      "outputs": []
    },
    {
      "cell_type": "code",
      "source": [
        "x = np.array(space3).reshape(-1,1)\n",
        "y = np.array(price)"
      ],
      "metadata": {
        "id": "cceC-OHyevh6"
      },
      "execution_count": 50,
      "outputs": []
    },
    {
      "cell_type": "code",
      "source": [
        "#Split the data into train sets and test sets\n",
        "x_train,x_test,y_train,y_test = train_test_split(x,y,test_size=0.3,random_state=0)"
      ],
      "metadata": {
        "id": "AJ-jD4l5iSy0"
      },
      "execution_count": 51,
      "outputs": []
    },
    {
      "cell_type": "code",
      "source": [
        "model2 = LinearRegression()"
      ],
      "metadata": {
        "id": "m4BkjEytiTXC"
      },
      "execution_count": 52,
      "outputs": []
    },
    {
      "cell_type": "code",
      "source": [
        "x"
      ],
      "metadata": {
        "id": "gnmj-AIGiThA"
      },
      "execution_count": null,
      "outputs": []
    },
    {
      "cell_type": "code",
      "source": [
        "y"
      ],
      "metadata": {
        "id": "1gw5Nk-iiTn0"
      },
      "execution_count": null,
      "outputs": []
    },
    {
      "cell_type": "code",
      "source": [
        "model2.fit(x_train,y_train)"
      ],
      "metadata": {
        "colab": {
          "base_uri": "https://localhost:8080/"
        },
        "id": "pOjTYc78iTyl",
        "outputId": "03a58f2c-b2d2-4273-c926-0e519ba462e0"
      },
      "execution_count": 55,
      "outputs": [
        {
          "output_type": "execute_result",
          "data": {
            "text/plain": [
              "LinearRegression()"
            ]
          },
          "metadata": {},
          "execution_count": 55
        }
      ]
    },
    {
      "cell_type": "code",
      "source": [
        "#Visualize training set\n",
        "plt.scatter(x_train,y_train,color='red',label='# Bedrooms')\n",
        "plt.title(\"Housing Prices in King Count, WA\")\n",
        "plt.plot(x_train,model2.predict(x_train),color='blue',label='Price')\n",
        "plt.xlabel(\"Area(sq-ft)\")\n",
        "plt.ylabel(\"Price(USD\")\n",
        "plt.legend()\n",
        "plt.show()"
      ],
      "metadata": {
        "colab": {
          "base_uri": "https://localhost:8080/",
          "height": 295
        },
        "id": "h0aCRRVwipM0",
        "outputId": "dbb7f4a3-f27c-4532-b98a-6e5b1189e79e"
      },
      "execution_count": 56,
      "outputs": [
        {
          "output_type": "display_data",
          "data": {
            "text/plain": [
              "<Figure size 432x288 with 1 Axes>"
            ],
            "image/png": "[encoded data removed]"
          },
          "metadata": {
            "needs_background": "light"
          }
        }
      ]
    },
    {
      "cell_type": "markdown",
      "source": [
        "### Analytics using bathroom"
      ],
      "metadata": {
        "id": "IaHRQaDY7Et7"
      }
    },
    {
      "cell_type": "code",
      "source": [
        "space3 = data['bathrooms']\n",
        "price = data['price']"
      ],
      "metadata": {
        "id": "zBSWuhKGeweL"
      },
      "execution_count": 57,
      "outputs": []
    },
    {
      "cell_type": "code",
      "source": [
        "x = np.array(space2).reshape(-1,1)\n",
        "y = np.array(price)"
      ],
      "metadata": {
        "id": "0BhQ4gNAewPh"
      },
      "execution_count": 58,
      "outputs": []
    },
    {
      "cell_type": "code",
      "source": [
        "#Split the data into train sets and test sets\n",
        "x_train,x_test,y_train,y_test = train_test_split(x,y,test_size=0.3,random_state=0)"
      ],
      "metadata": {
        "id": "nf2KLmIYiVUb"
      },
      "execution_count": 59,
      "outputs": []
    },
    {
      "cell_type": "code",
      "source": [
        "model3 = LinearRegression()"
      ],
      "metadata": {
        "id": "Ty4bLfc8iVxg"
      },
      "execution_count": 60,
      "outputs": []
    },
    {
      "cell_type": "code",
      "source": [
        "x"
      ],
      "metadata": {
        "id": "Z7co-5NfiV44"
      },
      "execution_count": null,
      "outputs": []
    },
    {
      "cell_type": "code",
      "source": [
        "y"
      ],
      "metadata": {
        "id": "JxLZoOg5iV-n"
      },
      "execution_count": null,
      "outputs": []
    },
    {
      "cell_type": "code",
      "source": [
        "model3.fit(x_train,y_train)"
      ],
      "metadata": {
        "id": "aZlrLtHeiWGU"
      },
      "execution_count": null,
      "outputs": []
    },
    {
      "cell_type": "code",
      "source": [
        "#Visualize training set\n",
        "plt.scatter(x_train,y_train,color='red',label='# Bathrooms')\n",
        "plt.title(\"Housing Prices in King Count, WA\")\n",
        "plt.plot(x_train,model3.predict(x_train),color='blue',label='Price')\n",
        "plt.xlabel(\"# bathrooms\")\n",
        "plt.ylabel(\"Price(USD\")\n",
        "plt.legend()\n",
        "plt.show()"
      ],
      "metadata": {
        "colab": {
          "base_uri": "https://localhost:8080/",
          "height": 295
        },
        "id": "mJ8xFrWQiWPn",
        "outputId": "3a107f85-0d32-4e5b-effb-70cdcfd677d7"
      },
      "execution_count": 66,
      "outputs": [
        {
          "output_type": "display_data",
          "data": {
            "text/plain": [
              "<Figure size 432x288 with 1 Axes>"
            ],
            "image/png": "[encoded data removed]"
          },
          "metadata": {
            "needs_background": "light"
          }
        }
      ]
    }
  ]
}